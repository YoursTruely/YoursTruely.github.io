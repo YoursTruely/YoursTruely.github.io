{
  "nbformat": 4,
  "nbformat_minor": 0,
  "metadata": {
    "colab": {
      "name": "ALPR2.ipynb",
      "provenance": [],
      "authorship_tag": "ABX9TyOjA+hG1KVEGBKdFGpv3Dyh",
      "include_colab_link": true
    },
    "kernelspec": {
      "name": "python3",
      "display_name": "Python 3"
    }
  },
  "cells": [
    {
      "cell_type": "markdown",
      "metadata": {
        "id": "view-in-github",
        "colab_type": "text"
      },
      "source": [
        "<a href=\"https://colab.research.google.com/github/YoursTruely/YoursTruely.github.io/blob/master/ALPR2.ipynb\" target=\"_parent\"><img src=\"https://colab.research.google.com/assets/colab-badge.svg\" alt=\"Open In Colab\"/></a>"
      ]
    },
    {
      "cell_type": "code",
      "metadata": {
        "colab": {
          "base_uri": "https://localhost:8080/"
        },
        "id": "G_nl5vwlu7Qk",
        "outputId": "8fb90710-e70a-47c9-d481-8d012399aaaf"
      },
      "source": [
        "from google.colab import drive\n",
        "drive.mount('/content/drive')"
      ],
      "execution_count": 1,
      "outputs": [
        {
          "output_type": "stream",
          "text": [
            "Mounted at /content/drive\n"
          ],
          "name": "stdout"
        }
      ]
    },
    {
      "cell_type": "code",
      "metadata": {
        "colab": {
          "base_uri": "https://localhost:8080/"
        },
        "id": "mHp0JnMBwlF1",
        "outputId": "606c434e-7655-4faa-fc20-7d44a5d27670"
      },
      "source": [
        "%cd /content/drive/MyDrive/Sync main/NTNU/ML/Assignments/Assignment 1/ALPR"
      ],
      "execution_count": 2,
      "outputs": [
        {
          "output_type": "stream",
          "text": [
            "/content/drive/MyDrive/Sync main/NTNU/ML/Assignments/Assignment 1/ALPR\n"
          ],
          "name": "stdout"
        }
      ]
    },
    {
      "cell_type": "code",
      "metadata": {
        "colab": {
          "base_uri": "https://localhost:8080/"
        },
        "id": "iP2uaGXWwwEE",
        "outputId": "7b163d21-d255-4651-fae1-86856525731e"
      },
      "source": [
        "%cd darknet"
      ],
      "execution_count": 5,
      "outputs": [
        {
          "output_type": "stream",
          "text": [
            "/content/drive/My Drive/Sync main/NTNU/ML/Assignments/Assignment 1/ALPR/darknet\n"
          ],
          "name": "stdout"
        }
      ]
    },
    {
      "cell_type": "code",
      "metadata": {
        "colab": {
          "base_uri": "https://localhost:8080/"
        },
        "id": "bXWK4rS_wyPU",
        "outputId": "8159e75c-138d-4c9c-c2f3-d8b9eecb756a"
      },
      "source": [
        "!make"
      ],
      "execution_count": 6,
      "outputs": [
        {
          "output_type": "stream",
          "text": [
            "mkdir -p obj\n",
            "mkdir -p backup\n",
            "mkdir -p results\n",
            "gcc -Iinclude/ -Isrc/ -DOPENCV `pkg-config --cflags opencv`  -Wall -Wno-unused-result -Wno-unknown-pragmas -Wfatal-errors -fPIC -Ofast -DOPENCV -c ./src/gemm.c -o obj/gemm.o\n",
            "gcc -Iinclude/ -Isrc/ -DOPENCV `pkg-config --cflags opencv`  -Wall -Wno-unused-result -Wno-unknown-pragmas -Wfatal-errors -fPIC -Ofast -DOPENCV -c ./src/utils.c -o obj/utils.o\n",
            "gcc -Iinclude/ -Isrc/ -DOPENCV `pkg-config --cflags opencv`  -Wall -Wno-unused-result -Wno-unknown-pragmas -Wfatal-errors -fPIC -Ofast -DOPENCV -c ./src/cuda.c -o obj/cuda.o\n",
            "gcc -Iinclude/ -Isrc/ -DOPENCV `pkg-config --cflags opencv`  -Wall -Wno-unused-result -Wno-unknown-pragmas -Wfatal-errors -fPIC -Ofast -DOPENCV -c ./src/deconvolutional_layer.c -o obj/deconvolutional_layer.o\n",
            "gcc -Iinclude/ -Isrc/ -DOPENCV `pkg-config --cflags opencv`  -Wall -Wno-unused-result -Wno-unknown-pragmas -Wfatal-errors -fPIC -Ofast -DOPENCV -c ./src/convolutional_layer.c -o obj/convolutional_layer.o\n",
            "gcc -Iinclude/ -Isrc/ -DOPENCV `pkg-config --cflags opencv`  -Wall -Wno-unused-result -Wno-unknown-pragmas -Wfatal-errors -fPIC -Ofast -DOPENCV -c ./src/list.c -o obj/list.o\n",
            "gcc -Iinclude/ -Isrc/ -DOPENCV `pkg-config --cflags opencv`  -Wall -Wno-unused-result -Wno-unknown-pragmas -Wfatal-errors -fPIC -Ofast -DOPENCV -c ./src/image.c -o obj/image.o\n",
            "gcc -Iinclude/ -Isrc/ -DOPENCV `pkg-config --cflags opencv`  -Wall -Wno-unused-result -Wno-unknown-pragmas -Wfatal-errors -fPIC -Ofast -DOPENCV -c ./src/activations.c -o obj/activations.o\n",
            "gcc -Iinclude/ -Isrc/ -DOPENCV `pkg-config --cflags opencv`  -Wall -Wno-unused-result -Wno-unknown-pragmas -Wfatal-errors -fPIC -Ofast -DOPENCV -c ./src/im2col.c -o obj/im2col.o\n",
            "gcc -Iinclude/ -Isrc/ -DOPENCV `pkg-config --cflags opencv`  -Wall -Wno-unused-result -Wno-unknown-pragmas -Wfatal-errors -fPIC -Ofast -DOPENCV -c ./src/col2im.c -o obj/col2im.o\n",
            "gcc -Iinclude/ -Isrc/ -DOPENCV `pkg-config --cflags opencv`  -Wall -Wno-unused-result -Wno-unknown-pragmas -Wfatal-errors -fPIC -Ofast -DOPENCV -c ./src/blas.c -o obj/blas.o\n",
            "gcc -Iinclude/ -Isrc/ -DOPENCV `pkg-config --cflags opencv`  -Wall -Wno-unused-result -Wno-unknown-pragmas -Wfatal-errors -fPIC -Ofast -DOPENCV -c ./src/crop_layer.c -o obj/crop_layer.o\n",
            "gcc -Iinclude/ -Isrc/ -DOPENCV `pkg-config --cflags opencv`  -Wall -Wno-unused-result -Wno-unknown-pragmas -Wfatal-errors -fPIC -Ofast -DOPENCV -c ./src/dropout_layer.c -o obj/dropout_layer.o\n",
            "gcc -Iinclude/ -Isrc/ -DOPENCV `pkg-config --cflags opencv`  -Wall -Wno-unused-result -Wno-unknown-pragmas -Wfatal-errors -fPIC -Ofast -DOPENCV -c ./src/maxpool_layer.c -o obj/maxpool_layer.o\n",
            "gcc -Iinclude/ -Isrc/ -DOPENCV `pkg-config --cflags opencv`  -Wall -Wno-unused-result -Wno-unknown-pragmas -Wfatal-errors -fPIC -Ofast -DOPENCV -c ./src/softmax_layer.c -o obj/softmax_layer.o\n",
            "gcc -Iinclude/ -Isrc/ -DOPENCV `pkg-config --cflags opencv`  -Wall -Wno-unused-result -Wno-unknown-pragmas -Wfatal-errors -fPIC -Ofast -DOPENCV -c ./src/data.c -o obj/data.o\n",
            "gcc -Iinclude/ -Isrc/ -DOPENCV `pkg-config --cflags opencv`  -Wall -Wno-unused-result -Wno-unknown-pragmas -Wfatal-errors -fPIC -Ofast -DOPENCV -c ./src/matrix.c -o obj/matrix.o\n",
            "gcc -Iinclude/ -Isrc/ -DOPENCV `pkg-config --cflags opencv`  -Wall -Wno-unused-result -Wno-unknown-pragmas -Wfatal-errors -fPIC -Ofast -DOPENCV -c ./src/network.c -o obj/network.o\n",
            "gcc -Iinclude/ -Isrc/ -DOPENCV `pkg-config --cflags opencv`  -Wall -Wno-unused-result -Wno-unknown-pragmas -Wfatal-errors -fPIC -Ofast -DOPENCV -c ./src/connected_layer.c -o obj/connected_layer.o\n",
            "gcc -Iinclude/ -Isrc/ -DOPENCV `pkg-config --cflags opencv`  -Wall -Wno-unused-result -Wno-unknown-pragmas -Wfatal-errors -fPIC -Ofast -DOPENCV -c ./src/cost_layer.c -o obj/cost_layer.o\n",
            "gcc -Iinclude/ -Isrc/ -DOPENCV `pkg-config --cflags opencv`  -Wall -Wno-unused-result -Wno-unknown-pragmas -Wfatal-errors -fPIC -Ofast -DOPENCV -c ./src/parser.c -o obj/parser.o\n",
            "gcc -Iinclude/ -Isrc/ -DOPENCV `pkg-config --cflags opencv`  -Wall -Wno-unused-result -Wno-unknown-pragmas -Wfatal-errors -fPIC -Ofast -DOPENCV -c ./src/option_list.c -o obj/option_list.o\n",
            "gcc -Iinclude/ -Isrc/ -DOPENCV `pkg-config --cflags opencv`  -Wall -Wno-unused-result -Wno-unknown-pragmas -Wfatal-errors -fPIC -Ofast -DOPENCV -c ./src/detection_layer.c -o obj/detection_layer.o\n",
            "gcc -Iinclude/ -Isrc/ -DOPENCV `pkg-config --cflags opencv`  -Wall -Wno-unused-result -Wno-unknown-pragmas -Wfatal-errors -fPIC -Ofast -DOPENCV -c ./src/route_layer.c -o obj/route_layer.o\n",
            "gcc -Iinclude/ -Isrc/ -DOPENCV `pkg-config --cflags opencv`  -Wall -Wno-unused-result -Wno-unknown-pragmas -Wfatal-errors -fPIC -Ofast -DOPENCV -c ./src/upsample_layer.c -o obj/upsample_layer.o\n",
            "gcc -Iinclude/ -Isrc/ -DOPENCV `pkg-config --cflags opencv`  -Wall -Wno-unused-result -Wno-unknown-pragmas -Wfatal-errors -fPIC -Ofast -DOPENCV -c ./src/box.c -o obj/box.o\n",
            "gcc -Iinclude/ -Isrc/ -DOPENCV `pkg-config --cflags opencv`  -Wall -Wno-unused-result -Wno-unknown-pragmas -Wfatal-errors -fPIC -Ofast -DOPENCV -c ./src/normalization_layer.c -o obj/normalization_layer.o\n",
            "gcc -Iinclude/ -Isrc/ -DOPENCV `pkg-config --cflags opencv`  -Wall -Wno-unused-result -Wno-unknown-pragmas -Wfatal-errors -fPIC -Ofast -DOPENCV -c ./src/avgpool_layer.c -o obj/avgpool_layer.o\n",
            "gcc -Iinclude/ -Isrc/ -DOPENCV `pkg-config --cflags opencv`  -Wall -Wno-unused-result -Wno-unknown-pragmas -Wfatal-errors -fPIC -Ofast -DOPENCV -c ./src/layer.c -o obj/layer.o\n",
            "gcc -Iinclude/ -Isrc/ -DOPENCV `pkg-config --cflags opencv`  -Wall -Wno-unused-result -Wno-unknown-pragmas -Wfatal-errors -fPIC -Ofast -DOPENCV -c ./src/local_layer.c -o obj/local_layer.o\n",
            "gcc -Iinclude/ -Isrc/ -DOPENCV `pkg-config --cflags opencv`  -Wall -Wno-unused-result -Wno-unknown-pragmas -Wfatal-errors -fPIC -Ofast -DOPENCV -c ./src/shortcut_layer.c -o obj/shortcut_layer.o\n",
            "gcc -Iinclude/ -Isrc/ -DOPENCV `pkg-config --cflags opencv`  -Wall -Wno-unused-result -Wno-unknown-pragmas -Wfatal-errors -fPIC -Ofast -DOPENCV -c ./src/logistic_layer.c -o obj/logistic_layer.o\n",
            "gcc -Iinclude/ -Isrc/ -DOPENCV `pkg-config --cflags opencv`  -Wall -Wno-unused-result -Wno-unknown-pragmas -Wfatal-errors -fPIC -Ofast -DOPENCV -c ./src/activation_layer.c -o obj/activation_layer.o\n",
            "gcc -Iinclude/ -Isrc/ -DOPENCV `pkg-config --cflags opencv`  -Wall -Wno-unused-result -Wno-unknown-pragmas -Wfatal-errors -fPIC -Ofast -DOPENCV -c ./src/rnn_layer.c -o obj/rnn_layer.o\n",
            "gcc -Iinclude/ -Isrc/ -DOPENCV `pkg-config --cflags opencv`  -Wall -Wno-unused-result -Wno-unknown-pragmas -Wfatal-errors -fPIC -Ofast -DOPENCV -c ./src/gru_layer.c -o obj/gru_layer.o\n",
            "gcc -Iinclude/ -Isrc/ -DOPENCV `pkg-config --cflags opencv`  -Wall -Wno-unused-result -Wno-unknown-pragmas -Wfatal-errors -fPIC -Ofast -DOPENCV -c ./src/crnn_layer.c -o obj/crnn_layer.o\n",
            "gcc -Iinclude/ -Isrc/ -DOPENCV `pkg-config --cflags opencv`  -Wall -Wno-unused-result -Wno-unknown-pragmas -Wfatal-errors -fPIC -Ofast -DOPENCV -c ./src/demo.c -o obj/demo.o\n",
            "gcc -Iinclude/ -Isrc/ -DOPENCV `pkg-config --cflags opencv`  -Wall -Wno-unused-result -Wno-unknown-pragmas -Wfatal-errors -fPIC -Ofast -DOPENCV -c ./src/batchnorm_layer.c -o obj/batchnorm_layer.o\n",
            "gcc -Iinclude/ -Isrc/ -DOPENCV `pkg-config --cflags opencv`  -Wall -Wno-unused-result -Wno-unknown-pragmas -Wfatal-errors -fPIC -Ofast -DOPENCV -c ./src/region_layer.c -o obj/region_layer.o\n",
            "gcc -Iinclude/ -Isrc/ -DOPENCV `pkg-config --cflags opencv`  -Wall -Wno-unused-result -Wno-unknown-pragmas -Wfatal-errors -fPIC -Ofast -DOPENCV -c ./src/reorg_layer.c -o obj/reorg_layer.o\n",
            "gcc -Iinclude/ -Isrc/ -DOPENCV `pkg-config --cflags opencv`  -Wall -Wno-unused-result -Wno-unknown-pragmas -Wfatal-errors -fPIC -Ofast -DOPENCV -c ./src/tree.c -o obj/tree.o\n",
            "gcc -Iinclude/ -Isrc/ -DOPENCV `pkg-config --cflags opencv`  -Wall -Wno-unused-result -Wno-unknown-pragmas -Wfatal-errors -fPIC -Ofast -DOPENCV -c ./src/lstm_layer.c -o obj/lstm_layer.o\n",
            "gcc -Iinclude/ -Isrc/ -DOPENCV `pkg-config --cflags opencv`  -Wall -Wno-unused-result -Wno-unknown-pragmas -Wfatal-errors -fPIC -Ofast -DOPENCV -c ./src/l2norm_layer.c -o obj/l2norm_layer.o\n",
            "gcc -Iinclude/ -Isrc/ -DOPENCV `pkg-config --cflags opencv`  -Wall -Wno-unused-result -Wno-unknown-pragmas -Wfatal-errors -fPIC -Ofast -DOPENCV -c ./src/yolo_layer.c -o obj/yolo_layer.o\n",
            "gcc -Iinclude/ -Isrc/ -DOPENCV `pkg-config --cflags opencv`  -Wall -Wno-unused-result -Wno-unknown-pragmas -Wfatal-errors -fPIC -Ofast -DOPENCV -c ./src/iseg_layer.c -o obj/iseg_layer.o\n",
            "gcc -Wall -Wno-unused-result -Wno-unknown-pragmas -Wfatal-errors -fPIC -Ofast -DOPENCV -shared obj/gemm.o obj/utils.o obj/cuda.o obj/deconvolutional_layer.o obj/convolutional_layer.o obj/list.o obj/image.o obj/activations.o obj/im2col.o obj/col2im.o obj/blas.o obj/crop_layer.o obj/dropout_layer.o obj/maxpool_layer.o obj/softmax_layer.o obj/data.o obj/matrix.o obj/network.o obj/connected_layer.o obj/cost_layer.o obj/parser.o obj/option_list.o obj/detection_layer.o obj/route_layer.o obj/upsample_layer.o obj/box.o obj/normalization_layer.o obj/avgpool_layer.o obj/layer.o obj/local_layer.o obj/shortcut_layer.o obj/logistic_layer.o obj/activation_layer.o obj/rnn_layer.o obj/gru_layer.o obj/crnn_layer.o obj/demo.o obj/batchnorm_layer.o obj/region_layer.o obj/reorg_layer.o obj/tree.o obj/lstm_layer.o obj/l2norm_layer.o obj/yolo_layer.o obj/iseg_layer.o -o libdarknet.so -lm -pthread  `pkg-config --libs opencv` \n",
            "ar rcs libdarknet.a obj/gemm.o obj/utils.o obj/cuda.o obj/deconvolutional_layer.o obj/convolutional_layer.o obj/list.o obj/image.o obj/activations.o obj/im2col.o obj/col2im.o obj/blas.o obj/crop_layer.o obj/dropout_layer.o obj/maxpool_layer.o obj/softmax_layer.o obj/data.o obj/matrix.o obj/network.o obj/connected_layer.o obj/cost_layer.o obj/parser.o obj/option_list.o obj/detection_layer.o obj/route_layer.o obj/upsample_layer.o obj/box.o obj/normalization_layer.o obj/avgpool_layer.o obj/layer.o obj/local_layer.o obj/shortcut_layer.o obj/logistic_layer.o obj/activation_layer.o obj/rnn_layer.o obj/gru_layer.o obj/crnn_layer.o obj/demo.o obj/batchnorm_layer.o obj/region_layer.o obj/reorg_layer.o obj/tree.o obj/lstm_layer.o obj/l2norm_layer.o obj/yolo_layer.o obj/iseg_layer.o\n",
            "gcc -Iinclude/ -Isrc/ -DOPENCV `pkg-config --cflags opencv`  -Wall -Wno-unused-result -Wno-unknown-pragmas -Wfatal-errors -fPIC -Ofast -DOPENCV -c ./examples/captcha.c -o obj/captcha.o\n",
            "gcc -Iinclude/ -Isrc/ -DOPENCV `pkg-config --cflags opencv`  -Wall -Wno-unused-result -Wno-unknown-pragmas -Wfatal-errors -fPIC -Ofast -DOPENCV -c ./examples/lsd.c -o obj/lsd.o\n",
            "gcc -Iinclude/ -Isrc/ -DOPENCV `pkg-config --cflags opencv`  -Wall -Wno-unused-result -Wno-unknown-pragmas -Wfatal-errors -fPIC -Ofast -DOPENCV -c ./examples/super.c -o obj/super.o\n",
            "gcc -Iinclude/ -Isrc/ -DOPENCV `pkg-config --cflags opencv`  -Wall -Wno-unused-result -Wno-unknown-pragmas -Wfatal-errors -fPIC -Ofast -DOPENCV -c ./examples/art.c -o obj/art.o\n",
            "gcc -Iinclude/ -Isrc/ -DOPENCV `pkg-config --cflags opencv`  -Wall -Wno-unused-result -Wno-unknown-pragmas -Wfatal-errors -fPIC -Ofast -DOPENCV -c ./examples/tag.c -o obj/tag.o\n",
            "gcc -Iinclude/ -Isrc/ -DOPENCV `pkg-config --cflags opencv`  -Wall -Wno-unused-result -Wno-unknown-pragmas -Wfatal-errors -fPIC -Ofast -DOPENCV -c ./examples/cifar.c -o obj/cifar.o\n",
            "gcc -Iinclude/ -Isrc/ -DOPENCV `pkg-config --cflags opencv`  -Wall -Wno-unused-result -Wno-unknown-pragmas -Wfatal-errors -fPIC -Ofast -DOPENCV -c ./examples/go.c -o obj/go.o\n",
            "gcc -Iinclude/ -Isrc/ -DOPENCV `pkg-config --cflags opencv`  -Wall -Wno-unused-result -Wno-unknown-pragmas -Wfatal-errors -fPIC -Ofast -DOPENCV -c ./examples/rnn.c -o obj/rnn.o\n",
            "gcc -Iinclude/ -Isrc/ -DOPENCV `pkg-config --cflags opencv`  -Wall -Wno-unused-result -Wno-unknown-pragmas -Wfatal-errors -fPIC -Ofast -DOPENCV -c ./examples/segmenter.c -o obj/segmenter.o\n",
            "gcc -Iinclude/ -Isrc/ -DOPENCV `pkg-config --cflags opencv`  -Wall -Wno-unused-result -Wno-unknown-pragmas -Wfatal-errors -fPIC -Ofast -DOPENCV -c ./examples/regressor.c -o obj/regressor.o\n",
            "gcc -Iinclude/ -Isrc/ -DOPENCV `pkg-config --cflags opencv`  -Wall -Wno-unused-result -Wno-unknown-pragmas -Wfatal-errors -fPIC -Ofast -DOPENCV -c ./examples/classifier.c -o obj/classifier.o\n",
            "gcc -Iinclude/ -Isrc/ -DOPENCV `pkg-config --cflags opencv`  -Wall -Wno-unused-result -Wno-unknown-pragmas -Wfatal-errors -fPIC -Ofast -DOPENCV -c ./examples/coco.c -o obj/coco.o\n",
            "gcc -Iinclude/ -Isrc/ -DOPENCV `pkg-config --cflags opencv`  -Wall -Wno-unused-result -Wno-unknown-pragmas -Wfatal-errors -fPIC -Ofast -DOPENCV -c ./examples/yolo.c -o obj/yolo.o\n",
            "gcc -Iinclude/ -Isrc/ -DOPENCV `pkg-config --cflags opencv`  -Wall -Wno-unused-result -Wno-unknown-pragmas -Wfatal-errors -fPIC -Ofast -DOPENCV -c ./examples/detector.c -o obj/detector.o\n",
            "gcc -Iinclude/ -Isrc/ -DOPENCV `pkg-config --cflags opencv`  -Wall -Wno-unused-result -Wno-unknown-pragmas -Wfatal-errors -fPIC -Ofast -DOPENCV -c ./examples/nightmare.c -o obj/nightmare.o\n",
            "gcc -Iinclude/ -Isrc/ -DOPENCV `pkg-config --cflags opencv`  -Wall -Wno-unused-result -Wno-unknown-pragmas -Wfatal-errors -fPIC -Ofast -DOPENCV -c ./examples/instance-segmenter.c -o obj/instance-segmenter.o\n",
            "gcc -Iinclude/ -Isrc/ -DOPENCV `pkg-config --cflags opencv`  -Wall -Wno-unused-result -Wno-unknown-pragmas -Wfatal-errors -fPIC -Ofast -DOPENCV -c ./examples/darknet.c -o obj/darknet.o\n",
            "gcc -Iinclude/ -Isrc/ -DOPENCV `pkg-config --cflags opencv`  -Wall -Wno-unused-result -Wno-unknown-pragmas -Wfatal-errors -fPIC -Ofast -DOPENCV obj/captcha.o obj/lsd.o obj/super.o obj/art.o obj/tag.o obj/cifar.o obj/go.o obj/rnn.o obj/segmenter.o obj/regressor.o obj/classifier.o obj/coco.o obj/yolo.o obj/detector.o obj/nightmare.o obj/instance-segmenter.o obj/darknet.o libdarknet.a -o darknet -lm -pthread  `pkg-config --libs opencv`  libdarknet.a\n"
          ],
          "name": "stdout"
        }
      ]
    },
    {
      "cell_type": "code",
      "metadata": {
        "colab": {
          "base_uri": "https://localhost:8080/"
        },
        "id": "iKlF-GlcxG3F",
        "outputId": "6ff0c19a-af68-4c13-9a58-b9bab4b2debd"
      },
      "source": [
        "%cd .."
      ],
      "execution_count": 7,
      "outputs": [
        {
          "output_type": "stream",
          "text": [
            "/content/drive/My Drive/Sync main/NTNU/ML/Assignments/Assignment 1/ALPR\n"
          ],
          "name": "stdout"
        }
      ]
    },
    {
      "cell_type": "code",
      "metadata": {
        "colab": {
          "base_uri": "https://localhost:8080/"
        },
        "id": "YWgjYH3YxK_d",
        "outputId": "6621b363-27e8-47d3-9a33-68bf83790fbb"
      },
      "source": [
        "!bash get-networks.sh"
      ],
      "execution_count": 8,
      "outputs": [
        {
          "output_type": "stream",
          "text": [
            "--2020-11-18 05:12:44--  http://www.inf.ufrgs.br/~smsilva/alpr-unconstrained/data/lp-detector/wpod-net_update1.h5\n",
            "Resolving www.inf.ufrgs.br (www.inf.ufrgs.br)... 143.54.11.34\n",
            "Connecting to www.inf.ufrgs.br (www.inf.ufrgs.br)|143.54.11.34|:80... connected.\n",
            "HTTP request sent, awaiting response... 200 OK\n",
            "Length: 6795496 (6.5M) [text/plain]\n",
            "Saving to: ‘data/lp-detector/wpod-net_update1.h5’\n",
            "\n",
            "wpod-net_update1.h5 100%[===================>]   6.48M  3.79MB/s    in 1.7s    \n",
            "\n",
            "2020-11-18 05:12:47 (3.79 MB/s) - ‘data/lp-detector/wpod-net_update1.h5’ saved [6795496/6795496]\n",
            "\n",
            "--2020-11-18 05:12:47--  http://www.inf.ufrgs.br/~smsilva/alpr-unconstrained/data/lp-detector/wpod-net_update1.json\n",
            "Resolving www.inf.ufrgs.br (www.inf.ufrgs.br)... 143.54.11.34\n",
            "Connecting to www.inf.ufrgs.br (www.inf.ufrgs.br)|143.54.11.34|:80... connected.\n",
            "HTTP request sent, awaiting response... 200 OK\n",
            "Length: 39635 (39K) [text/plain]\n",
            "Saving to: ‘data/lp-detector/wpod-net_update1.json’\n",
            "\n",
            "wpod-net_update1.js 100%[===================>]  38.71K   206KB/s    in 0.2s    \n",
            "\n",
            "2020-11-18 05:12:47 (206 KB/s) - ‘data/lp-detector/wpod-net_update1.json’ saved [39635/39635]\n",
            "\n",
            "--2020-11-18 05:12:47--  http://www.inf.ufrgs.br/~smsilva/alpr-unconstrained/data/ocr/ocr-net.cfg\n",
            "Resolving www.inf.ufrgs.br (www.inf.ufrgs.br)... 143.54.11.34\n",
            "Connecting to www.inf.ufrgs.br (www.inf.ufrgs.br)|143.54.11.34|:80... connected.\n",
            "HTTP request sent, awaiting response... 200 OK\n",
            "Length: 1573 (1.5K) [text/plain]\n",
            "Saving to: ‘data/ocr/ocr-net.cfg’\n",
            "\n",
            "ocr-net.cfg         100%[===================>]   1.54K  --.-KB/s    in 0s      \n",
            "\n",
            "2020-11-18 05:12:48 (128 MB/s) - ‘data/ocr/ocr-net.cfg’ saved [1573/1573]\n",
            "\n",
            "--2020-11-18 05:12:48--  http://www.inf.ufrgs.br/~smsilva/alpr-unconstrained/data/ocr/ocr-net.names\n",
            "Resolving www.inf.ufrgs.br (www.inf.ufrgs.br)... 143.54.11.34\n",
            "Connecting to www.inf.ufrgs.br (www.inf.ufrgs.br)|143.54.11.34|:80... connected.\n",
            "HTTP request sent, awaiting response... 200 OK\n",
            "Length: 70 [text/plain]\n",
            "Saving to: ‘data/ocr/ocr-net.names’\n",
            "\n",
            "ocr-net.names       100%[===================>]      70  --.-KB/s    in 0s      \n",
            "\n",
            "2020-11-18 05:12:48 (5.38 MB/s) - ‘data/ocr/ocr-net.names’ saved [70/70]\n",
            "\n",
            "--2020-11-18 05:12:49--  http://www.inf.ufrgs.br/~smsilva/alpr-unconstrained/data/ocr/ocr-net.weights\n",
            "Resolving www.inf.ufrgs.br (www.inf.ufrgs.br)... 143.54.11.34\n",
            "Connecting to www.inf.ufrgs.br (www.inf.ufrgs.br)|143.54.11.34|:80... connected.\n",
            "HTTP request sent, awaiting response... 200 OK\n",
            "Length: 17547476 (17M) [text/plain]\n",
            "Saving to: ‘data/ocr/ocr-net.weights’\n",
            "\n",
            "ocr-net.weights     100%[===================>]  16.73M  6.75MB/s    in 2.5s    \n",
            "\n",
            "2020-11-18 05:12:52 (6.75 MB/s) - ‘data/ocr/ocr-net.weights’ saved [17547476/17547476]\n",
            "\n",
            "--2020-11-18 05:12:52--  http://www.inf.ufrgs.br/~smsilva/alpr-unconstrained/data/ocr/ocr-net.data\n",
            "Resolving www.inf.ufrgs.br (www.inf.ufrgs.br)... 143.54.11.34\n",
            "Connecting to www.inf.ufrgs.br (www.inf.ufrgs.br)|143.54.11.34|:80... connected.\n",
            "HTTP request sent, awaiting response... 200 OK\n",
            "Length: 40 [text/plain]\n",
            "Saving to: ‘data/ocr/ocr-net.data’\n",
            "\n",
            "ocr-net.data        100%[===================>]      40  --.-KB/s    in 0s      \n",
            "\n",
            "2020-11-18 05:12:53 (2.57 MB/s) - ‘data/ocr/ocr-net.data’ saved [40/40]\n",
            "\n",
            "--2020-11-18 05:12:53--  http://www.inf.ufrgs.br/~smsilva/alpr-unconstrained/data/vehicle-detector/yolo-voc.cfg\n",
            "Resolving www.inf.ufrgs.br (www.inf.ufrgs.br)... 143.54.11.34\n",
            "Connecting to www.inf.ufrgs.br (www.inf.ufrgs.br)|143.54.11.34|:80... connected.\n",
            "HTTP request sent, awaiting response... 200 OK\n",
            "Length: 2721 (2.7K) [text/plain]\n",
            "Saving to: ‘data/vehicle-detector/yolo-voc.cfg’\n",
            "\n",
            "yolo-voc.cfg        100%[===================>]   2.66K  --.-KB/s    in 0s      \n",
            "\n",
            "2020-11-18 05:12:53 (214 MB/s) - ‘data/vehicle-detector/yolo-voc.cfg’ saved [2721/2721]\n",
            "\n",
            "--2020-11-18 05:12:53--  http://www.inf.ufrgs.br/~smsilva/alpr-unconstrained/data/vehicle-detector/voc.data\n",
            "Resolving www.inf.ufrgs.br (www.inf.ufrgs.br)... 143.54.11.34\n",
            "Connecting to www.inf.ufrgs.br (www.inf.ufrgs.br)|143.54.11.34|:80... connected.\n",
            "HTTP request sent, awaiting response... 200 OK\n",
            "Length: 69 [text/plain]\n",
            "Saving to: ‘data/vehicle-detector/voc.data’\n",
            "\n",
            "voc.data            100%[===================>]      69  --.-KB/s    in 0s      \n",
            "\n",
            "2020-11-18 05:12:54 (1.30 MB/s) - ‘data/vehicle-detector/voc.data’ saved [69/69]\n",
            "\n",
            "--2020-11-18 05:12:54--  http://www.inf.ufrgs.br/~smsilva/alpr-unconstrained/data/vehicle-detector/yolo-voc.weights\n",
            "Resolving www.inf.ufrgs.br (www.inf.ufrgs.br)... 143.54.11.34\n",
            "Connecting to www.inf.ufrgs.br (www.inf.ufrgs.br)|143.54.11.34|:80... connected.\n",
            "HTTP request sent, awaiting response... 200 OK\n",
            "Length: 202704260 (193M) [text/plain]\n",
            "Saving to: ‘data/vehicle-detector/yolo-voc.weights’\n",
            "\n",
            "yolo-voc.weights    100%[===================>] 193.31M  14.4MB/s    in 15s     \n",
            "\n",
            "2020-11-18 05:13:09 (13.2 MB/s) - ‘data/vehicle-detector/yolo-voc.weights’ saved [202704260/202704260]\n",
            "\n",
            "--2020-11-18 05:13:09--  http://www.inf.ufrgs.br/~smsilva/alpr-unconstrained/data/vehicle-detector/voc.names\n",
            "Resolving www.inf.ufrgs.br (www.inf.ufrgs.br)... 143.54.11.34\n",
            "Connecting to www.inf.ufrgs.br (www.inf.ufrgs.br)|143.54.11.34|:80... connected.\n",
            "HTTP request sent, awaiting response... 200 OK\n",
            "Length: 135 [text/plain]\n",
            "Saving to: ‘data/vehicle-detector/voc.names’\n",
            "\n",
            "voc.names           100%[===================>]     135  --.-KB/s    in 0s      \n",
            "\n",
            "2020-11-18 05:13:10 (4.84 MB/s) - ‘data/vehicle-detector/voc.names’ saved [135/135]\n",
            "\n",
            "--2020-11-18 05:13:10--  https://pjreddie.com/media/files/yolov2.weights\n",
            "Resolving pjreddie.com (pjreddie.com)... 128.208.4.108\n",
            "Connecting to pjreddie.com (pjreddie.com)|128.208.4.108|:443... connected.\n",
            "HTTP request sent, awaiting response... 200 OK\n",
            "Length: 203934260 (194M) [application/octet-stream]\n",
            "Saving to: ‘data/vehicle-detector/yolov2.weights’\n",
            "\n",
            "yolov2.weights      100%[===================>] 194.49M   467KB/s    in 7m 47s  \n",
            "\n",
            "2020-11-18 05:20:58 (426 KB/s) - ‘data/vehicle-detector/yolov2.weights’ saved [203934260/203934260]\n",
            "\n"
          ],
          "name": "stdout"
        }
      ]
    },
    {
      "cell_type": "code",
      "metadata": {
        "colab": {
          "base_uri": "https://localhost:8080/"
        },
        "id": "p_bmHrvmzTLo",
        "outputId": "c80c35af-7e79-4dd7-86a1-680aaaffff6a"
      },
      "source": [
        "!bash prepairPython.sh"
      ],
      "execution_count": 14,
      "outputs": [
        {
          "output_type": "stream",
          "text": [
            "Collecting tensorflow-gpu\n",
            "\u001b[?25l  Downloading https://files.pythonhosted.org/packages/18/99/ac32fd13d56e40d4c3e6150030132519997c0bb1f06f448d970e81b177e5/tensorflow_gpu-2.3.1-cp36-cp36m-manylinux2010_x86_64.whl (320.4MB)\n",
            "\u001b[K     |████████████████████████████████| 320.4MB 47kB/s \n",
            "\u001b[?25hRequirement already satisfied, skipping upgrade: h5py<2.11.0,>=2.10.0 in /usr/local/lib/python3.6/dist-packages (from tensorflow-gpu) (2.10.0)\n",
            "Requirement already satisfied, skipping upgrade: google-pasta>=0.1.8 in /usr/local/lib/python3.6/dist-packages (from tensorflow-gpu) (0.2.0)\n",
            "Requirement already satisfied, skipping upgrade: wheel>=0.26 in /usr/local/lib/python3.6/dist-packages (from tensorflow-gpu) (0.35.1)\n",
            "Requirement already satisfied, skipping upgrade: grpcio>=1.8.6 in /usr/local/lib/python3.6/dist-packages (from tensorflow-gpu) (1.33.2)\n",
            "Requirement already satisfied, skipping upgrade: protobuf>=3.9.2 in /usr/local/lib/python3.6/dist-packages (from tensorflow-gpu) (3.12.4)\n",
            "Requirement already satisfied, skipping upgrade: opt-einsum>=2.3.2 in /usr/local/lib/python3.6/dist-packages (from tensorflow-gpu) (3.3.0)\n",
            "Requirement already satisfied, skipping upgrade: gast==0.3.3 in /usr/local/lib/python3.6/dist-packages (from tensorflow-gpu) (0.3.3)\n",
            "Requirement already satisfied, skipping upgrade: wrapt>=1.11.1 in /usr/local/lib/python3.6/dist-packages (from tensorflow-gpu) (1.12.1)\n",
            "Requirement already satisfied, skipping upgrade: tensorboard<3,>=2.3.0 in /usr/local/lib/python3.6/dist-packages (from tensorflow-gpu) (2.3.0)\n",
            "Requirement already satisfied, skipping upgrade: keras-preprocessing<1.2,>=1.1.1 in /usr/local/lib/python3.6/dist-packages (from tensorflow-gpu) (1.1.2)\n",
            "Requirement already satisfied, skipping upgrade: numpy<1.19.0,>=1.16.0 in /usr/local/lib/python3.6/dist-packages (from tensorflow-gpu) (1.18.5)\n",
            "Requirement already satisfied, skipping upgrade: absl-py>=0.7.0 in /usr/local/lib/python3.6/dist-packages (from tensorflow-gpu) (0.10.0)\n",
            "Requirement already satisfied, skipping upgrade: termcolor>=1.1.0 in /usr/local/lib/python3.6/dist-packages (from tensorflow-gpu) (1.1.0)\n",
            "Requirement already satisfied, skipping upgrade: six>=1.12.0 in /usr/local/lib/python3.6/dist-packages (from tensorflow-gpu) (1.15.0)\n",
            "Requirement already satisfied, skipping upgrade: tensorflow-estimator<2.4.0,>=2.3.0 in /usr/local/lib/python3.6/dist-packages (from tensorflow-gpu) (2.3.0)\n",
            "Requirement already satisfied, skipping upgrade: astunparse==1.6.3 in /usr/local/lib/python3.6/dist-packages (from tensorflow-gpu) (1.6.3)\n",
            "Requirement already satisfied, skipping upgrade: setuptools in /usr/local/lib/python3.6/dist-packages (from protobuf>=3.9.2->tensorflow-gpu) (50.3.2)\n",
            "Requirement already satisfied, skipping upgrade: requests<3,>=2.21.0 in /usr/local/lib/python3.6/dist-packages (from tensorboard<3,>=2.3.0->tensorflow-gpu) (2.23.0)\n",
            "Requirement already satisfied, skipping upgrade: werkzeug>=0.11.15 in /usr/local/lib/python3.6/dist-packages (from tensorboard<3,>=2.3.0->tensorflow-gpu) (1.0.1)\n",
            "Requirement already satisfied, skipping upgrade: google-auth<2,>=1.6.3 in /usr/local/lib/python3.6/dist-packages (from tensorboard<3,>=2.3.0->tensorflow-gpu) (1.17.2)\n",
            "Requirement already satisfied, skipping upgrade: tensorboard-plugin-wit>=1.6.0 in /usr/local/lib/python3.6/dist-packages (from tensorboard<3,>=2.3.0->tensorflow-gpu) (1.7.0)\n",
            "Requirement already satisfied, skipping upgrade: google-auth-oauthlib<0.5,>=0.4.1 in /usr/local/lib/python3.6/dist-packages (from tensorboard<3,>=2.3.0->tensorflow-gpu) (0.4.2)\n",
            "Requirement already satisfied, skipping upgrade: markdown>=2.6.8 in /usr/local/lib/python3.6/dist-packages (from tensorboard<3,>=2.3.0->tensorflow-gpu) (3.3.3)\n",
            "Requirement already satisfied, skipping upgrade: urllib3!=1.25.0,!=1.25.1,<1.26,>=1.21.1 in /usr/local/lib/python3.6/dist-packages (from requests<3,>=2.21.0->tensorboard<3,>=2.3.0->tensorflow-gpu) (1.24.3)\n",
            "Requirement already satisfied, skipping upgrade: idna<3,>=2.5 in /usr/local/lib/python3.6/dist-packages (from requests<3,>=2.21.0->tensorboard<3,>=2.3.0->tensorflow-gpu) (2.10)\n",
            "Requirement already satisfied, skipping upgrade: certifi>=2017.4.17 in /usr/local/lib/python3.6/dist-packages (from requests<3,>=2.21.0->tensorboard<3,>=2.3.0->tensorflow-gpu) (2020.6.20)\n",
            "Requirement already satisfied, skipping upgrade: chardet<4,>=3.0.2 in /usr/local/lib/python3.6/dist-packages (from requests<3,>=2.21.0->tensorboard<3,>=2.3.0->tensorflow-gpu) (3.0.4)\n",
            "Requirement already satisfied, skipping upgrade: cachetools<5.0,>=2.0.0 in /usr/local/lib/python3.6/dist-packages (from google-auth<2,>=1.6.3->tensorboard<3,>=2.3.0->tensorflow-gpu) (4.1.1)\n",
            "Requirement already satisfied, skipping upgrade: pyasn1-modules>=0.2.1 in /usr/local/lib/python3.6/dist-packages (from google-auth<2,>=1.6.3->tensorboard<3,>=2.3.0->tensorflow-gpu) (0.2.8)\n",
            "Requirement already satisfied, skipping upgrade: rsa<5,>=3.1.4; python_version >= \"3\" in /usr/local/lib/python3.6/dist-packages (from google-auth<2,>=1.6.3->tensorboard<3,>=2.3.0->tensorflow-gpu) (4.6)\n",
            "Requirement already satisfied, skipping upgrade: requests-oauthlib>=0.7.0 in /usr/local/lib/python3.6/dist-packages (from google-auth-oauthlib<0.5,>=0.4.1->tensorboard<3,>=2.3.0->tensorflow-gpu) (1.3.0)\n",
            "Requirement already satisfied, skipping upgrade: importlib-metadata; python_version < \"3.8\" in /usr/local/lib/python3.6/dist-packages (from markdown>=2.6.8->tensorboard<3,>=2.3.0->tensorflow-gpu) (2.0.0)\n",
            "Requirement already satisfied, skipping upgrade: pyasn1<0.5.0,>=0.4.6 in /usr/local/lib/python3.6/dist-packages (from pyasn1-modules>=0.2.1->google-auth<2,>=1.6.3->tensorboard<3,>=2.3.0->tensorflow-gpu) (0.4.8)\n",
            "Requirement already satisfied, skipping upgrade: oauthlib>=3.0.0 in /usr/local/lib/python3.6/dist-packages (from requests-oauthlib>=0.7.0->google-auth-oauthlib<0.5,>=0.4.1->tensorboard<3,>=2.3.0->tensorflow-gpu) (3.1.0)\n",
            "Requirement already satisfied, skipping upgrade: zipp>=0.5 in /usr/local/lib/python3.6/dist-packages (from importlib-metadata; python_version < \"3.8\"->markdown>=2.6.8->tensorboard<3,>=2.3.0->tensorflow-gpu) (3.4.0)\n",
            "Installing collected packages: tensorflow-gpu\n",
            "Successfully installed tensorflow-gpu-2.3.1\n",
            "Requirement already satisfied: numpy in /usr/local/lib/python3.6/dist-packages (1.18.5)\n",
            "Requirement already satisfied: scipy in /usr/local/lib/python3.6/dist-packages (1.4.1)\n",
            "Requirement already satisfied: scikit-learn in /usr/local/lib/python3.6/dist-packages (0.22.2.post1)\n",
            "Requirement already satisfied: pillow in /usr/local/lib/python3.6/dist-packages (7.0.0)\n",
            "Requirement already satisfied: h5py in /usr/local/lib/python3.6/dist-packages (2.10.0)\n",
            "Requirement already satisfied: joblib>=0.11 in /usr/local/lib/python3.6/dist-packages (from scikit-learn) (0.17.0)\n",
            "Requirement already satisfied: six in /usr/local/lib/python3.6/dist-packages (from h5py) (1.15.0)\n",
            "Requirement already satisfied: keras in /usr/local/lib/python3.6/dist-packages (2.4.3)\n",
            "Requirement already satisfied: scipy>=0.14 in /usr/local/lib/python3.6/dist-packages (from keras) (1.4.1)\n",
            "Requirement already satisfied: h5py in /usr/local/lib/python3.6/dist-packages (from keras) (2.10.0)\n",
            "Requirement already satisfied: pyyaml in /usr/local/lib/python3.6/dist-packages (from keras) (3.13)\n",
            "Requirement already satisfied: numpy>=1.9.1 in /usr/local/lib/python3.6/dist-packages (from keras) (1.18.5)\n",
            "Requirement already satisfied: six in /usr/local/lib/python3.6/dist-packages (from h5py->keras) (1.15.0)\n"
          ],
          "name": "stdout"
        }
      ]
    },
    {
      "cell_type": "code",
      "metadata": {
        "colab": {
          "base_uri": "https://localhost:8080/"
        },
        "id": "m0zEE31z3vOO",
        "outputId": "f8d9bfcc-3c51-43b4-b07b-c60e3d6f9e6e"
      },
      "source": [
        "!bash run.sh -i samples/test -o output -c output/results.csv"
      ],
      "execution_count": 20,
      "outputs": [
        {
          "output_type": "stream",
          "text": [
            "layer     filters    size              input                output\n",
            "    0 conv     32  3 x 3 / 1   608 x 608 x   3   ->   608 x 608 x  32  0.639 BFLOPs\n",
            "    1 max          2 x 2 / 2   608 x 608 x  32   ->   304 x 304 x  32\n",
            "    2 conv     64  3 x 3 / 1   304 x 304 x  32   ->   304 x 304 x  64  3.407 BFLOPs\n",
            "    3 max          2 x 2 / 2   304 x 304 x  64   ->   152 x 152 x  64\n",
            "    4 conv    128  3 x 3 / 1   152 x 152 x  64   ->   152 x 152 x 128  3.407 BFLOPs\n",
            "    5 conv     64  1 x 1 / 1   152 x 152 x 128   ->   152 x 152 x  64  0.379 BFLOPs\n",
            "    6 conv    128  3 x 3 / 1   152 x 152 x  64   ->   152 x 152 x 128  3.407 BFLOPs\n",
            "    7 max          2 x 2 / 2   152 x 152 x 128   ->    76 x  76 x 128\n",
            "    8 conv    256  3 x 3 / 1    76 x  76 x 128   ->    76 x  76 x 256  3.407 BFLOPs\n",
            "    9 conv    128  1 x 1 / 1    76 x  76 x 256   ->    76 x  76 x 128  0.379 BFLOPs\n",
            "   10 conv    256  3 x 3 / 1    76 x  76 x 128   ->    76 x  76 x 256  3.407 BFLOPs\n",
            "   11 max          2 x 2 / 2    76 x  76 x 256   ->    38 x  38 x 256\n",
            "   12 conv    512  3 x 3 / 1    38 x  38 x 256   ->    38 x  38 x 512  3.407 BFLOPs\n",
            "   13 conv    256  1 x 1 / 1    38 x  38 x 512   ->    38 x  38 x 256  0.379 BFLOPs\n",
            "   14 conv    512  3 x 3 / 1    38 x  38 x 256   ->    38 x  38 x 512  3.407 BFLOPs\n",
            "   15 conv    256  1 x 1 / 1    38 x  38 x 512   ->    38 x  38 x 256  0.379 BFLOPs\n",
            "   16 conv    512  3 x 3 / 1    38 x  38 x 256   ->    38 x  38 x 512  3.407 BFLOPs\n",
            "   17 max          2 x 2 / 2    38 x  38 x 512   ->    19 x  19 x 512\n",
            "   18 conv   1024  3 x 3 / 1    19 x  19 x 512   ->    19 x  19 x1024  3.407 BFLOPs\n",
            "   19 conv    512  1 x 1 / 1    19 x  19 x1024   ->    19 x  19 x 512  0.379 BFLOPs\n",
            "   20 conv   1024  3 x 3 / 1    19 x  19 x 512   ->    19 x  19 x1024  3.407 BFLOPs\n",
            "   21 conv    512  1 x 1 / 1    19 x  19 x1024   ->    19 x  19 x 512  0.379 BFLOPs\n",
            "   22 conv   1024  3 x 3 / 1    19 x  19 x 512   ->    19 x  19 x1024  3.407 BFLOPs\n",
            "   23 conv   1024  3 x 3 / 1    19 x  19 x1024   ->    19 x  19 x1024  6.814 BFLOPs\n",
            "   24 conv   1024  3 x 3 / 1    19 x  19 x1024   ->    19 x  19 x1024  6.814 BFLOPs\n",
            "   25 route  16\n",
            "   26 conv     64  1 x 1 / 1    38 x  38 x 512   ->    38 x  38 x  64  0.095 BFLOPs\n",
            "   27 reorg              / 2    38 x  38 x  64   ->    19 x  19 x 256\n",
            "   28 route  27 24\n",
            "   29 conv   1024  3 x 3 / 1    19 x  19 x1280   ->    19 x  19 x1024  8.517 BFLOPs\n",
            "   30 conv    425  1 x 1 / 1    19 x  19 x1024   ->    19 x  19 x 425  0.314 BFLOPs\n",
            "   31 detection\n",
            "mask_scale: Using default '1.000000'\n",
            "Loading weights from data/vehicle-detector/yolov2.weights...Done!\n",
            "Searching for vehicles using YOLO...\n",
            "\tScanning samples/test/03009.jpg\n",
            "b'samples/test/03009.jpg'\n",
            "\t\t1 cars found\n",
            "0:00:14.339047\n",
            "\tScanning samples/test/03016.jpg\n",
            "b'samples/test/03016.jpg'\n",
            "\t\t1 cars found\n",
            "0:00:13.282597\n",
            "\tScanning samples/test/03025.jpg\n",
            "b'samples/test/03025.jpg'\n",
            "\t\t0 cars found\n",
            "0:00:14.215229\n",
            "\tScanning samples/test/03033.jpg\n",
            "b'samples/test/03033.jpg'\n",
            "\t\t1 cars found\n",
            "0:00:14.647466\n",
            "\tScanning samples/test/03057.jpg\n",
            "b'samples/test/03057.jpg'\n",
            "\t\t1 cars found\n",
            "0:00:14.304231\n",
            "\tScanning samples/test/03058.jpg\n",
            "b'samples/test/03058.jpg'\n",
            "\t\t1 cars found\n",
            "0:00:13.408361\n",
            "\tScanning samples/test/03066.jpg\n",
            "b'samples/test/03066.jpg'\n",
            "\t\t1 cars found\n",
            "0:00:13.704052\n",
            "\tScanning samples/test/03071.jpg\n",
            "b'samples/test/03071.jpg'\n",
            "\t\t1 cars found\n",
            "0:00:14.114234\n",
            "2020-11-18 06:42:59.241950: I tensorflow/stream_executor/platform/default/dso_loader.cc:48] Successfully opened dynamic library libcudart.so.10.1\n",
            "2020-11-18 06:43:01.141002: I tensorflow/stream_executor/platform/default/dso_loader.cc:48] Successfully opened dynamic library libcuda.so.1\n",
            "2020-11-18 06:43:01.149880: E tensorflow/stream_executor/cuda/cuda_driver.cc:314] failed call to cuInit: CUDA_ERROR_NO_DEVICE: no CUDA-capable device is detected\n",
            "2020-11-18 06:43:01.149938: I tensorflow/stream_executor/cuda/cuda_diagnostics.cc:156] kernel driver does not appear to be running on this host (3fca0d6940e4): /proc/driver/nvidia/version does not exist\n",
            "2020-11-18 06:43:01.150460: I tensorflow/core/platform/cpu_feature_guard.cc:142] This TensorFlow binary is optimized with oneAPI Deep Neural Network Library (oneDNN)to use the following CPU instructions in performance-critical operations:  AVX2 FMA\n",
            "To enable them in other operations, rebuild TensorFlow with the appropriate compiler flags.\n",
            "2020-11-18 06:43:01.156763: I tensorflow/core/platform/profile_utils/cpu_utils.cc:104] CPU Frequency: 2200135000 Hz\n",
            "2020-11-18 06:43:01.157067: I tensorflow/compiler/xla/service/service.cc:168] XLA service 0x2fa6bc0 initialized for platform Host (this does not guarantee that XLA will be used). Devices:\n",
            "2020-11-18 06:43:01.157119: I tensorflow/compiler/xla/service/service.cc:176]   StreamExecutor device (0): Host, Default Version\n",
            "Searching for license plates using WPOD-NET\n",
            "\t Processing output/b'03009'_0car.png\n",
            "\t\tBound dim: 540, ratio: 1.827273\n",
            "0:00:01.467066\n",
            "\t Processing output/b'03016'_0car.png\n",
            "\t\tBound dim: 582, ratio: 1.984177\n",
            "0:00:01.500064\n",
            "\t Processing output/b'03033'_0car.png\n",
            "\t\tBound dim: 508, ratio: 1.717314\n",
            "0:00:01.180255\n",
            "\t Processing output/b'03057'_0car.png\n",
            "\t\tBound dim: 532, ratio: 1.814727\n",
            "0:00:00.910771\n",
            "\t Processing output/b'03058'_0car.png\n",
            "\t\tBound dim: 292, ratio: 1.007547\n",
            "0:00:00.213549\n",
            "\t Processing output/b'03066'_0car.png\n",
            "\t\tBound dim: 576, ratio: 1.974922\n",
            "0:00:01.126710\n",
            "\t Processing output/b'03071'_0car.png\n",
            "\t\tBound dim: 586, ratio: 2.017722\n",
            "0:00:01.188586\n",
            "\t Processing output/03071_output.png\n",
            "\t\tBound dim: 472, ratio: 1.600000\n",
            "0:00:00.625175\n",
            "\t Processing output/03057_output.png\n",
            "\t\tBound dim: 446, ratio: 1.499268\n",
            "0:00:00.525040\n",
            "\t Processing output/03016_output.png\n",
            "\t\tBound dim: 432, ratio: 1.503006\n",
            "0:00:00.505974\n",
            "\t Processing output/03033_output.png\n",
            "\t\tBound dim: 384, ratio: 1.333333\n",
            "0:00:00.364733\n",
            "\t Processing output/03058_output.png\n",
            "\t\tBound dim: 384, ratio: 1.333333\n",
            "0:00:00.367225\n",
            "\t Processing output/03009_output.png\n",
            "\t\tBound dim: 384, ratio: 1.333333\n",
            "0:00:00.474336\n",
            "\t Processing output/03066_output.png\n",
            "\t\tBound dim: 384, ratio: 1.333333\n",
            "0:00:00.392280\n",
            "\t Processing output/03025_output.png\n",
            "\t\tBound dim: 478, ratio: 1.637405\n",
            "0:00:00.654391\n",
            "output/output\n",
            "layer     filters    size              input                output\n",
            "    0 conv     32  3 x 3 / 1   240 x  80 x   3   ->   240 x  80 x  32  0.033 BFLOPs\n",
            "    1 max          2 x 2 / 2   240 x  80 x  32   ->   120 x  40 x  32\n",
            "    2 conv     64  3 x 3 / 1   120 x  40 x  32   ->   120 x  40 x  64  0.177 BFLOPs\n",
            "    3 max          2 x 2 / 2   120 x  40 x  64   ->    60 x  20 x  64\n",
            "    4 conv    128  3 x 3 / 1    60 x  20 x  64   ->    60 x  20 x 128  0.177 BFLOPs\n",
            "    5 conv     64  1 x 1 / 1    60 x  20 x 128   ->    60 x  20 x  64  0.020 BFLOPs\n",
            "    6 conv    128  3 x 3 / 1    60 x  20 x  64   ->    60 x  20 x 128  0.177 BFLOPs\n",
            "    7 max          2 x 2 / 2    60 x  20 x 128   ->    30 x  10 x 128\n",
            "    8 conv    256  3 x 3 / 1    30 x  10 x 128   ->    30 x  10 x 256  0.177 BFLOPs\n",
            "    9 conv    128  1 x 1 / 1    30 x  10 x 256   ->    30 x  10 x 128  0.020 BFLOPs\n",
            "   10 conv    256  3 x 3 / 1    30 x  10 x 128   ->    30 x  10 x 256  0.177 BFLOPs\n",
            "   11 conv    512  3 x 3 / 1    30 x  10 x 256   ->    30 x  10 x 512  0.708 BFLOPs\n",
            "   12 conv    256  3 x 3 / 1    30 x  10 x 512   ->    30 x  10 x 256  0.708 BFLOPs\n",
            "   13 conv    512  3 x 3 / 1    30 x  10 x 256   ->    30 x  10 x 512  0.708 BFLOPs\n",
            "   14 conv     80  1 x 1 / 1    30 x  10 x 512   ->    30 x  10 x  80  0.025 BFLOPs\n",
            "   15 detection\n",
            "mask_scale: Using default '1.000000'\n",
            "Loading weights from data/ocr/ocr-net.weights...Done!\n",
            "['output/output/03009_output_lp.png', 'output/output/03016_output_lp.png', 'output/output/03025_output_lp.png', 'output/output/03033_output_lp.png', 'output/output/03057_output_lp.png', 'output/output/03058_output_lp.png', 'output/output/03066_output_lp.png', 'output/output/03071_output_lp.png', \"output/output/b'03009'_0car_lp.png\", \"output/output/b'03016'_0car_lp.png\", \"output/output/b'03033'_0car_lp.png\", \"output/output/b'03057'_0car_lp.png\", \"output/output/b'03066'_0car_lp.png\", \"output/output/b'03071'_0car_lp.png\"]\n",
            "Performing OCR...\n",
            "\tScanning  output/output/03009_output_lp.png\n",
            "\t\tLP: GN06BG\n",
            "0:00:00.436193\n",
            "\tScanning  output/output/03016_output_lp.png\n",
            "\t\tLP: MPE3389\n",
            "0:00:00.516020\n",
            "\tScanning  output/output/03025_output_lp.png\n",
            "\t\tLP: INS6012\n",
            "0:00:00.478619\n",
            "\tScanning  output/output/03033_output_lp.png\n",
            "\t\tLP: SEZ229\n",
            "0:00:00.450745\n",
            "\tScanning  output/output/03057_output_lp.png\n",
            "\t\tLP: INTT263\n",
            "0:00:00.441479\n",
            "\tScanning  output/output/03058_output_lp.png\n",
            "\t\tLP: C24JBH\n",
            "0:00:00.468111\n",
            "\tScanning  output/output/03066_output_lp.png\n",
            "\t\tLP: HHP8586\n",
            "0:00:00.487416\n",
            "\tScanning  output/output/03071_output_lp.png\n",
            "\t\tLP: 6GQR959\n",
            "0:00:00.522501\n",
            "\tScanning  output/output/b'03009'_0car_lp.png\n",
            "\t\tLP: JW\n",
            "0:00:00.510279\n",
            "\tScanning  output/output/b'03016'_0car_lp.png\n",
            "\t\tLP: MPE3389\n",
            "0:00:00.487611\n",
            "\tScanning  output/output/b'03033'_0car_lp.png\n",
            "\t\tLP: SEZ229\n",
            "0:00:00.508226\n",
            "\tScanning  output/output/b'03057'_0car_lp.png\n",
            "\t\tLP: INTT263\n",
            "0:00:00.487210\n",
            "\tScanning  output/output/b'03066'_0car_lp.png\n",
            "\t\tLP: HHP8586\n",
            "0:00:00.465282\n",
            "\tScanning  output/output/b'03071'_0car_lp.png\n",
            "\t\tLP: 6GQR959\n",
            "0:00:00.508187\n"
          ],
          "name": "stdout"
        }
      ]
    }
  ]
}